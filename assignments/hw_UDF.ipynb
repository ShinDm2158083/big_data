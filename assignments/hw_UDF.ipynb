{
 "cells": [
  {
   "cell_type": "code",
   "execution_count": 8,
   "id": "97812d14-203d-46d8-992c-8076ee19bebd",
   "metadata": {},
   "outputs": [
    {
     "data": {
      "text/plain": [
       "\"\\n[과제: udf 등록 및 SQL 처리]\\nUDF 함수명: age_category(age)\\n- age가 35살 미만: 'young'\\n- age가 35살-59살: 'adult'\\n- age가 60살 이상: 'senior'\\n\\n데이터프레임\\n- 변수: name, age (예: '안현', 39)\\n- 데이터 5개~10개 생성 \\n\\nSQL 출력 결과: name, age_category(age)\\n\\n- 제출 방법: GitHub에 업로드\\n- 제출 기한: 5.24(수) \\n\""
      ]
     },
     "execution_count": 8,
     "metadata": {},
     "output_type": "execute_result"
    }
   ],
   "source": [
    "'''\n",
    "[과제: udf 등록 및 SQL 처리]\n",
    "UDF 함수명: age_category(age)\n",
    "- age가 35살 미만: 'young'\n",
    "- age가 35살-59살: 'adult'\n",
    "- age가 60살 이상: 'senior'\n",
    "\n",
    "데이터프레임\n",
    "- 변수: name, age (예: '안현', 39)\n",
    "- 데이터 5개~10개 생성 \n",
    "\n",
    "SQL 출력 결과: name, age_category(age)\n",
    "\n",
    "- 제출 방법: GitHub에 업로드\n",
    "- 제출 기한: 5.24(수) \n",
    "'''"
   ]
  },
  {
   "cell_type": "code",
   "execution_count": 9,
   "id": "b1c010a7-0cc3-4cd8-b794-90e093e4cb10",
   "metadata": {},
   "outputs": [],
   "source": [
    "#SparkSession 설정\n",
    "\n",
    "from pyspark.sql import SparkSession\n",
    "from pyspark.sql.functions import udf\n",
    "\n",
    "spark = spark = SparkSession.builder.master('local').appName('udf-hw').getOrCreate()"
   ]
  },
  {
   "cell_type": "code",
   "execution_count": 10,
   "id": "726b3787-3062-4e1d-9630-5dceaa323229",
   "metadata": {},
   "outputs": [
    {
     "name": "stdout",
     "output_type": "stream",
     "text": [
      "+------+---+\n",
      "|  name|age|\n",
      "+------+---+\n",
      "|신동민| 22|\n",
      "|최창성| 24|\n",
      "|임정우| 25|\n",
      "|박지원| 35|\n",
      "|장미경| 53|\n",
      "|정호영| 44|\n",
      "|고성우| 66|\n",
      "|오일남| 77|\n",
      "|김현성| 31|\n",
      "|성진우| 27|\n",
      "+------+---+\n",
      "\n"
     ]
    }
   ],
   "source": [
    "#(이름,나이)데이터 10개 \n",
    "info = [('신동민',22),('최창성',24),('임정우',25),('박지원',35),('장미경',53),\n",
    "       ('정호영',44),('고성우',66),('오일남',77),('김현성',31),('성진우',27)]\n",
    "\n",
    "#스키마 정의\n",
    "schema = ['name','age']\n",
    "\n",
    "#데이터 프레임 생성\n",
    "df = spark.createDataFrame(info,schema)\n",
    "\n",
    "# name_age라는 이름으로 temporary view 생성\n",
    "df.createOrReplaceTempView('name_age')\n",
    "\n",
    "#데이터 프레임 출력\n",
    "df.show()"
   ]
  },
  {
   "cell_type": "code",
   "execution_count": 13,
   "id": "ad9acc31-12eb-48f6-b609-4c5e5578b85f",
   "metadata": {},
   "outputs": [],
   "source": [
    "#UDF - age_category(연령대) 함수\n",
    "\n",
    "def age_category(age):\n",
    "    if age < 35:                  #35살 미만 = 'young'\n",
    "        return 'young'\n",
    "    elif age >= 35 and age < 60:  #35살 이상 60살 미만 = 'adult'\n",
    "        return 'adult'\n",
    "    elif age >= 60:               #60살 이상 = 'senior'\n",
    "        return 'senior'"
   ]
  },
  {
   "cell_type": "code",
   "execution_count": 14,
   "id": "8725a391-e6a5-47ec-88e2-7cbbdfdf97e0",
   "metadata": {},
   "outputs": [
    {
     "data": {
      "text/plain": [
       "<function __main__.age_category(age)>"
      ]
     },
     "execution_count": 14,
     "metadata": {},
     "output_type": "execute_result"
    }
   ],
   "source": [
    "#UDF 등록\n",
    "spark.udf.register('age_category',age_category)"
   ]
  },
  {
   "cell_type": "code",
   "execution_count": 15,
   "id": "356f548c-98dc-48eb-adce-0e8db53ab24d",
   "metadata": {},
   "outputs": [
    {
     "name": "stdout",
     "output_type": "stream",
     "text": [
      "+------+-----------------+\n",
      "|  name|age_category(age)|\n",
      "+------+-----------------+\n",
      "|신동민|            young|\n",
      "|최창성|            young|\n",
      "|임정우|            young|\n",
      "|박지원|            adult|\n",
      "|장미경|            adult|\n",
      "|정호영|            adult|\n",
      "|고성우|           senior|\n",
      "|오일남|           senior|\n",
      "|김현성|            young|\n",
      "|성진우|            young|\n",
      "+------+-----------------+\n",
      "\n"
     ]
    }
   ],
   "source": [
    "#SQL문 처리\n",
    "spark.sql('SELECT name,age_category(age) \\\n",
    "           FROM name_age').show()"
   ]
  },
  {
   "cell_type": "code",
   "execution_count": null,
   "id": "3ac584a9-0dc8-42bf-bbe9-271a4e6ea3f4",
   "metadata": {},
   "outputs": [],
   "source": []
  }
 ],
 "metadata": {
  "kernelspec": {
   "display_name": "Python 3 (ipykernel)",
   "language": "python",
   "name": "python3"
  },
  "language_info": {
   "codemirror_mode": {
    "name": "ipython",
    "version": 3
   },
   "file_extension": ".py",
   "mimetype": "text/x-python",
   "name": "python",
   "nbconvert_exporter": "python",
   "pygments_lexer": "ipython3",
   "version": "3.9.12"
  }
 },
 "nbformat": 4,
 "nbformat_minor": 5
}
